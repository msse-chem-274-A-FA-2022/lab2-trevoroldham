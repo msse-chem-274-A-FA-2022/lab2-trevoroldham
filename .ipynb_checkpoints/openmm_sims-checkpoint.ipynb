{
 "cells": [
  {
   "cell_type": "markdown",
   "metadata": {},
   "source": [
    "# Running Molecular Dynamics Simulations in OpenMM\n",
    "\n",
    "## Overview\n",
    "**Molecular Dynamics Simulation**: simulation of molecules through time via calculations of forces on atoms and their positions based on those forces. The output is a trajectory."
   ]
  },
  {
   "cell_type": "markdown",
   "metadata": {},
   "source": [
    "## Steps for running a simulation\n",
    "1. **Initialization** -- setting up imports, variables, and other system parameters to prepare for the simulation\n",
    "2. **Minimization** -- calculating the energies of moving molecules slightly to obtain a local \"minimum\" in energy and eliminate “bad” interatomic contacts\n",
    "3. **Equilibration** -- a brief MD simulation that prepares our system to our target temperature and desired equilibrium values\n",
    "4. **Production** -- run the equilibration\n",
    "5. **Analysis** -- after you have collected your data from the production run, you must analyze the trajectory to draw conclusions"
   ]
  },
  {
   "cell_type": "markdown",
   "metadata": {},
   "source": [
    "## Our First Simulations\n",
    "We will now use [OpenMM](https://openmm.org/documentation) to do a molecular dynamics simulation of the ethane and butane molecules we prepared. It’s important to note at this point that molecular dynamics simulations can be performed using a number of softwares. However, we will be running a simulation with a program called OpenMM. OpenMM has the advantage of being scriptable with Python."
   ]
  },
  {
   "cell_type": "markdown",
   "metadata": {},
   "source": [
    "---"
   ]
  },
  {
   "cell_type": "markdown",
   "metadata": {},
   "source": [
    "### Initialization\n",
    "Once you have OpenMM, we can use it to simulate our molecules. Start in your notebook with imports. Here are the python libraries you will need to run simulations with OpenMM."
   ]
  },
  {
   "cell_type": "code",
   "execution_count": 1,
   "metadata": {},
   "outputs": [],
   "source": [
    "import openmm as mm\n",
    "from openmm import app, unit"
   ]
  },
  {
   "cell_type": "markdown",
   "metadata": {},
   "source": [
    "First, we need to read in our structure and our force field. We have to tell the simulation our initial coordinates and the force field we will use. To do this, we use the PDB file we have and the force field file we prepared."
   ]
  },
  {
   "cell_type": "code",
   "execution_count": 2,
   "metadata": {},
   "outputs": [],
   "source": [
    "pdb = app.PDBFile('data/ethane.pdb')\n",
    "forcefield = app.ForceField('data/ethane.gaff2.xml')"
   ]
  },
  {
   "cell_type": "markdown",
   "metadata": {},
   "source": [
    "#### QUESTION\n",
    "What are we doing with these two commands above?\n",
    "*(Hint: let's check out some [documentation](http://docs.openmm.org/latest/userguide/application/02_running_sims.html))*\n",
    "\n",
    "#### RESPONSE\n",
    "First we must load the data from ethane.pdb which contains the atom types and the topology, which is how the atoms are bonded together. We store that data in a variable pdb. Then we load the data from ethane.gaff2.xml which contains more information about the force field we wish to use for ethane. This xml file contains the atoms, their topology, and the parameters used in the calculation of v(r), the force field. This includes parameters for bonded interactions, bond angles, torsional angles, van der walls interactions, and electrostatic interactions."
   ]
  },
  {
   "cell_type": "markdown",
   "metadata": {},
   "source": [
    "#### QUESTION\n",
    "What lies in the contents of the XML file being read in `forcefield`?\n",
    "\n",
    "#### RESPONSE\n",
    "\n",
    "The xml file contains atom types, residues, and the parameters for bonded interactions, bond angles, torisonal angles, van der walls interactions, and electrostatic interactions. The atom types must denote an atom for each unique atom, which considers how the atom is bonded to other atoms. In ethane there is one unique carbon, and one unique hydrogen, as the carbons are equivalent and the hydrogens are all equivalent as well. The residue is a model of the molecules in the simulation which is one, and it contains the connectivity of the atoms which form the ethane molecule. Then the parameters are set for the calculation of the forcefield."
   ]
  },
  {
   "cell_type": "markdown",
   "metadata": {},
   "source": [
    "Next, we set up the system for our MD simulation. With the following command, we use the `pdb` variable to create a system. The other arguments to the function say that we are not using a cut-off and that we want to constrain bonds with hydrogens (this allows us to use a larger timestep)."
   ]
  },
  {
   "cell_type": "code",
   "execution_count": 3,
   "metadata": {},
   "outputs": [],
   "source": [
    "system = forcefield.createSystem(pdb.topology, nonbondedMethod=app.NoCutoff, constraints=app.HBonds)"
   ]
  },
  {
   "cell_type": "markdown",
   "metadata": {},
   "source": [
    "Our simulation will be in vacuum at a temperature of 298.15 K. The Langevin integrator is what is called a stochastic integrator. This means that it mimics jostling of air or solvent through random forces. We are using a 5.0 picosecond coupling constant, which is something which controls how often the integrator adds jostling motions."
   ]
  },
  {
   "cell_type": "code",
   "execution_count": 18,
   "metadata": {},
   "outputs": [],
   "source": [
    "integrator = mm.LangevinIntegrator(298.15*unit.kelvin, 5.0/unit.picoseconds, 2.0*unit.femtoseconds)\n",
    "integrator.setConstraintTolerance(1e-5)"
   ]
  },
  {
   "cell_type": "markdown",
   "metadata": {},
   "source": [
    "#### QUESTION\n",
    "What is the `integrator` applying to our simulation?\n",
    "\n",
    "#### RESPONSE\n",
    "The integrator is serving as a proxy for the jostling motion that would be applied by air or solvent. This is necessary because the system is initalized to be in a vacuum and thus there are no solvent molecules being simulated. The integrators stochastic nature will exert change on the ethane molecules through random variation. The integrator takes as input the system temperature, the friction coefficient, and the time step."
   ]
  },
  {
   "cell_type": "markdown",
   "metadata": {},
   "source": [
    "Finally, we initialize the simulation by adding all of the pieces we have prepared:"
   ]
  },
  {
   "cell_type": "code",
   "execution_count": 19,
   "metadata": {},
   "outputs": [],
   "source": [
    "platform = mm.Platform.getPlatformByName('Reference')\n",
    "simulation = app.Simulation(pdb.topology, system, integrator, platform) # ENTER THE THREE PIECES OF OUR SIMULATION HERE (hmm... I wonder where I can find this)\n",
    "simulation.context.setPositions(pdb.positions)"
   ]
  },
  {
   "cell_type": "markdown",
   "metadata": {},
   "source": [
    "---"
   ]
  },
  {
   "cell_type": "markdown",
   "metadata": {},
   "source": [
    "### Minimization\n",
    "Now, we start calculating energies. First we do an energy minimization. We start in this code block by printing the energy before minimization, doing 100 steps of an energy minimization, then printing the new energy. You should see that the energy decreases:"
   ]
  },
  {
   "cell_type": "code",
   "execution_count": 20,
   "metadata": {},
   "outputs": [
    {
     "name": "stdout",
     "output_type": "stream",
     "text": [
      "Minimizing...\n",
      "Potential energy before minimization is 4.467818271065182 kJ/mol\n",
      "Potential energy after minimization is 4.389967724953268 kJ/mol\n"
     ]
    }
   ],
   "source": [
    "print('Minimizing...')\n",
    "\n",
    "st = simulation.context.getState(getPositions=True,getEnergy=True)\n",
    "print(F\"Potential energy before minimization is {st.getPotentialEnergy()}\")\n",
    "\n",
    "simulation.minimizeEnergy(maxIterations=100)\n",
    "\n",
    "st = simulation.context.getState(getPositions=True,getEnergy=True)\n",
    "print(F\"Potential energy after minimization is {st.getPotentialEnergy()}\")"
   ]
  },
  {
   "cell_type": "markdown",
   "metadata": {},
   "source": [
    "You can’t see it from this code, but the atom positions have changed slightly to cause this change in energy."
   ]
  },
  {
   "cell_type": "markdown",
   "metadata": {},
   "source": [
    "#### QUESTION\n",
    "What is an energy minimization? Why do we want to perform a local energy minimization at the start of our simulation?\n",
    "\n",
    "#### RESPONSE\n",
    "The energy minimzation takes the coordinates from the pdb file containing positions and calculates the potential energy among the molecules, then presumably updates the positions of each molecule to be moving down the gradient towards less potential energy. This is necessary to to at the beginning of a simulation in case the pdb positions represent a state with very high, unrealistic forces between molecules. The minimization moves the intial system to a more realistic state."
   ]
  },
  {
   "cell_type": "markdown",
   "metadata": {},
   "source": [
    "---"
   ]
  },
  {
   "cell_type": "markdown",
   "metadata": {},
   "source": [
    "### Equilibration\n",
    "Next, we run an equilibration. The purpose of this equilibration is to get our system to our target temperature and to get the system equilibrated and ready for our production run."
   ]
  },
  {
   "cell_type": "code",
   "execution_count": 21,
   "metadata": {},
   "outputs": [
    {
     "name": "stdout",
     "output_type": "stream",
     "text": [
      "Equilibrating...\n",
      "#\"Step\",\"Potential Energy (kJ/mole)\",\"Temperature (K)\"\n",
      "100,14.034846213609665,412.88567572831795\n",
      "200,15.944912376236335,388.5507431282175\n",
      "300,28.159596278419997,350.79407617666766\n",
      "400,23.9520294528912,394.93212867069366\n",
      "500,15.59985261631188,332.2038826503667\n",
      "600,25.999676640999496,110.32820423639593\n",
      "700,21.570115844409056,261.0723585511351\n",
      "800,24.351522500809995,133.7906846768851\n",
      "900,19.762045500392254,429.22206807823056\n",
      "1000,26.91405153665985,332.1295823316184\n",
      "1100,20.52274369939086,365.5866505888021\n",
      "1200,22.812544039872915,242.1510425797455\n",
      "1300,22.636919811118467,323.4302376205737\n",
      "1400,25.35178185753454,272.2594026683726\n",
      "1500,32.18577069393248,284.6804649383162\n",
      "1600,17.901303322711495,237.24293435016486\n",
      "1700,14.378552424757665,404.45663671410244\n",
      "1800,30.059767863168634,309.1050789155913\n",
      "1900,22.93406958258751,386.59972366412404\n",
      "2000,28.886336838732397,219.76102578812768\n",
      "2100,13.342239228830728,198.5104834847249\n",
      "2200,13.533657648749337,182.60273279679996\n",
      "2300,22.293607369390912,477.90226429270655\n",
      "2400,18.06707276680214,411.7341226186754\n",
      "2500,17.44046831198291,292.59446378885946\n"
     ]
    }
   ],
   "source": [
    "from sys import stdout\n",
    "\n",
    "print('Equilibrating...')\n",
    "\n",
    "simulation.reporters.append(app.StateDataReporter(stdout, 100, step=True, \n",
    "    potentialEnergy=True, temperature=True, separator=','))\n",
    "simulation.context.setVelocitiesToTemperature(150.0*unit.kelvin)\n",
    "simulation.step(2500)"
   ]
  },
  {
   "cell_type": "markdown",
   "metadata": {},
   "source": [
    "The first command in this section sets up what information OpenMM will report to us as the simulation runs. We are asking for the potential energy, and temperature every 100 timesteps. By putting `stdout` as the first argument, we are telling the program to just print the information. Note that `stdout` comes from the built in Python module `sys`. If we wanted the information in a file instead, you would put the file name.\n",
    "\n",
    "The second command sets the initial velocities of the system to a temperature equivalent of 150 K. Then, we integrate for 2,500 steps to allow the system to equilibrate."
   ]
  },
  {
   "cell_type": "markdown",
   "metadata": {},
   "source": [
    "---"
   ]
  },
  {
   "cell_type": "markdown",
   "metadata": {},
   "source": [
    "### Production\n",
    "This next block of code is a longer block of simulation called the ‘production run’. We’re also added a timer to this code so we can see how long it took our simulation to run."
   ]
  },
  {
   "cell_type": "code",
   "execution_count": 22,
   "metadata": {},
   "outputs": [
    {
     "name": "stdout",
     "output_type": "stream",
     "text": [
      "Running Production...\n",
      "#\"Step\",\"Time (ps)\",\"Potential Energy (kJ/mole)\",\"Temperature (K)\",\"Speed (ns/day)\"\n",
      "250000,500.0000000016593,14.378065665634262,202.9409878127568,0\n",
      "500000,999.9999999901769,17.053142933051717,418.55256695036036,2.8e+04\n",
      "750000,1499.9999999783536,12.097997078020308,332.29680251797373,2.79e+04\n",
      "1000000,1999.9999999665301,30.983496808126063,207.77569112297954,2.78e+04\n",
      "1250000,2499.9999999547067,29.316254526233987,293.3095917595377,2.78e+04\n",
      "1500000,2999.9999999428833,21.858492133885846,344.93881211962747,2.78e+04\n",
      "1750000,3499.99999993106,24.09512744619221,222.81075265149383,2.78e+04\n",
      "2000000,3999.9999999192364,16.076376031470353,186.43552923010273,2.77e+04\n",
      "2250000,4499.9999999992715,17.210450003614113,370.3145374086201,2.77e+04\n",
      "2500000,5000.000000101135,13.09636570810093,227.74052911896055,2.74e+04\n",
      "2750000,5500.000000202998,10.055229922402686,221.5629474702949,2.74e+04\n",
      "3000000,6000.000000304862,19.00087542209232,103.14323592866705,2.74e+04\n",
      "3250000,6500.000000406725,20.01255902366863,273.5944766271367,2.74e+04\n",
      "3500000,7000.0000005085885,24.009640302243724,428.5948718905803,2.75e+04\n",
      "3750000,7500.000000610452,22.145006350704946,317.60903616894836,2.75e+04\n",
      "4000000,8000.000000712315,10.190369785308395,262.45263530148014,2.75e+04\n",
      "4250000,8500.000000814178,22.02352490005237,293.232809521419,2.75e+04\n",
      "4500000,9000.000000916041,15.658958459094965,215.30722970632047,2.75e+04\n",
      "4750000,9500.000001017905,28.346990177537734,209.8991401550207,2.73e+04\n",
      "5000000,10000.000001119768,20.173161724594962,496.09392701693616,2.73e+04\n",
      "5250000,10500.000001221631,23.679115383107348,122.11800524162857,2.74e+04\n",
      "5500000,11000.000001323495,27.17800775329998,219.56926727906298,2.74e+04\n",
      "5750000,11500.000001425358,22.346489660102677,234.76557075758197,2.74e+04\n",
      "6000000,12000.000001527222,15.888238168790034,583.3643278545328,2.74e+04\n",
      "6250000,12500.000001629085,13.269576945371615,461.66794282414077,2.74e+04\n",
      "6500000,13000.000001730948,20.83573093575547,206.08606479780994,2.74e+04\n",
      "6750000,13500.000001832812,17.49084452640124,184.45569818638103,2.74e+04\n",
      "7000000,14000.000001934675,15.440492532085015,295.8824689866887,2.73e+04\n",
      "7250000,14500.000002036539,21.48898401558931,277.7070837895781,2.73e+04\n",
      "7500000,15000.000002138402,20.20311336125821,284.83307153894646,2.71e+04\n",
      "7750000,15500.000002240266,16.570082968048556,407.13339276798223,2.7e+04\n",
      "8000000,16000.000002342129,31.75851252574108,365.113178094689,2.7e+04\n",
      "8250000,16500.00000244399,13.69793987786912,117.19375369433797,2.7e+04\n",
      "8500000,17000.000002545854,14.291288737572696,186.47164529663775,2.7e+04\n",
      "8750000,17500.000002647717,23.836441198450128,298.10248477138293,2.69e+04\n",
      "9000000,18000.00000274958,10.375762518245118,297.3077364935946,2.69e+04\n",
      "9250000,18500.000002851444,12.511004944305798,251.41905635616985,2.7e+04\n",
      "9500000,19000.000002953308,17.856991163635467,186.17260244356177,2.7e+04\n",
      "9750000,19500.00000305517,26.02286475696573,321.7495702683814,2.69e+04\n",
      "10000000,20000.000003157034,36.161342335388106,379.03784212199264,2.68e+04\n",
      "Done!\n",
      "Time required for simulation: 64.37596702575684 seconds\n"
     ]
    }
   ],
   "source": [
    "import time as time\n",
    "\n",
    "print('Running Production...')\n",
    "\n",
    "# Begin timer\n",
    "tinit=time.time()\n",
    "\n",
    "# Clear simulation reporters\n",
    "simulation.reporters.clear()\n",
    "\n",
    "# Reinitialize simulation reporters. We do this because we want different information printed from the production run than the equilibration run.\n",
    "# output basic simulation information below every 250000 steps - (which is equal to 2 fs(250,000) = 500,000 fs = 500 ps)\n",
    "simulation.reporters.append(app.StateDataReporter(stdout, 250000, \n",
    "    step=True, time=True, potentialEnergy=True, temperature=True, \n",
    "    speed=True, separator=','))\n",
    "\n",
    "# write out a trajectory (i.e., coordinates vs. time) to a DCD\n",
    "# file every 100 steps - 0.2 ps\n",
    "simulation.reporters.append(app.DCDReporter('ethane_sim.dcd', 100))\n",
    "\n",
    "# run the simulation for 1.0x10^7 steps - 20 ns\n",
    "simulation.step(10000000)\n",
    "\n",
    "# End timer\n",
    "tfinal=time.time()\n",
    "print('Done!')\n",
    "print('Time required for simulation:', tfinal-tinit, 'seconds')"
   ]
  },
  {
   "cell_type": "markdown",
   "metadata": {},
   "source": [
    "After executing this cell in your notebook, you should see an output which gives you the step number, simulation time, potential energy, temperature, and “speed” for steps in the simulation. The spacing of theses is set in the `simulation.reporters` step where we indicated we wanted information printed every 250,000 timesteps.\n",
    "\n",
    "The “speed” is reported in “ns/day” or “nanoseconds/day”. This is a commonly used unit to report how quickly simulations run. It tells you how much simulation time in nanoseconds would pass for 24 hours of computation time. For example, if a simulation is running at 2 ns/day, enough timesteps would be calculated in one day to make 2 nanoseconds of simulation time. If we were using our 2 fs timestep, this would mean that the computer calculated 1,000,000 timesteps over 24 hours."
   ]
  },
  {
   "cell_type": "markdown",
   "metadata": {},
   "source": [
    "---"
   ]
  },
  {
   "cell_type": "markdown",
   "metadata": {},
   "source": [
    "## Your Turn\n",
    "Make a copy of the code you wrote to run your ethane simulation and modify it to:\n",
    "1. Read in the files `butane.gaff2.xml` and `butane.pdb`\n",
    "2. Carry out a 10 ps MD simulation to bring the butane molecule to an equilibrium temperature of 298 K in which output is printed every 0.5 ps (Leave the minimization portion beforehand unchanged.)\n",
    "3. Carry out a 40 ns MD simulation at 298 K in which output is printed every 1 ns and structures are (still) saved every 0.2 ps into a file called `butane_sim.dcd`."
   ]
  },
  {
   "cell_type": "code",
   "execution_count": 30,
   "metadata": {},
   "outputs": [
    {
     "name": "stdout",
     "output_type": "stream",
     "text": [
      "Minimizing...\n",
      "Potential energy before minimization is 5.797528692127868 kJ/mol\n",
      "Potential energy after minimization is 5.295784483017486 kJ/mol\n",
      "Equilibrating...\n",
      "#\"Step\",\"Potential Energy (kJ/mole)\",\"Temperature (K)\"\n",
      "250,35.3293610728431,377.99360963724604\n",
      "500,32.914370795078696,266.32383093566114\n",
      "750,54.91832565536845,338.4975975582279\n",
      "1000,31.951928630267396,406.43819755911716\n",
      "1250,53.82859327570476,369.464024840027\n",
      "1500,59.823407955749836,197.6425679517721\n",
      "1750,56.30366278285174,307.609001207952\n",
      "2000,49.92505130993653,485.10406481983694\n",
      "2250,14.968692250930108,300.55778667777446\n",
      "2500,29.001963693973394,294.58025418518196\n",
      "2750,47.887653179717425,325.61043102430165\n",
      "3000,48.788049158950486,133.6404008212833\n",
      "3250,50.483163386784874,266.1492111159933\n",
      "3500,43.46946634541573,266.6659552455204\n",
      "3750,44.108708594154514,409.8434146285466\n",
      "4000,33.02809649744729,317.9246768033946\n",
      "4250,37.129607070303514,440.31910053582794\n",
      "4500,29.39123231117899,384.8577492390589\n",
      "4750,42.53260375254895,211.37590920175268\n",
      "5000,43.38049439910678,300.4623029594358\n",
      "Running Production...\n",
      "#\"Step\",\"Time (ps)\",\"Potential Energy (kJ/mole)\",\"Temperature (K)\",\"Speed (ns/day)\"\n",
      "500000,999.9999999901769,38.95315187367367,231.85480480496065,0\n",
      "1000000,1999.9999999665301,63.135237403741826,421.76618493105155,1.25e+04\n",
      "1500000,2999.9999999428833,51.16300580487105,264.1010747131898,1.29e+04\n",
      "2000000,3999.9999999192364,41.037458277416576,249.0786077611033,1.31e+04\n",
      "2500000,5000.000000101135,45.33882653411905,212.02630741898636,1.27e+04\n",
      "3000000,6000.000000304862,43.482241555897104,206.12408129360801,1.23e+04\n",
      "3500000,7000.0000005085885,41.747659443149466,292.34637989985174,1.23e+04\n",
      "4000000,8000.000000712315,38.30419708095677,362.97608048150875,1.23e+04\n",
      "4500000,9000.000000916041,38.699132534672295,298.9263207564334,1.23e+04\n",
      "5000000,10000.000001119768,57.03611949055889,291.8739381212588,1.23e+04\n",
      "5500000,11000.000001323495,44.35161874157471,341.20600328965173,1.24e+04\n",
      "6000000,12000.000001527222,41.40790794059394,208.7302545945757,1.23e+04\n",
      "6500000,13000.000001730948,24.07859828031146,331.97914779757446,1.23e+04\n",
      "7000000,14000.000001934675,27.22378017244852,390.41836233973385,1.24e+04\n",
      "7500000,15000.000002138402,57.659167472662155,389.9176557470309,1.24e+04\n",
      "8000000,16000.000002342129,61.256762600013104,172.85054110823327,1.25e+04\n",
      "8500000,17000.000002545854,74.16504196075323,289.5490765756857,1.25e+04\n",
      "9000000,18000.00000274958,68.4399233263666,301.36721717598476,1.24e+04\n",
      "9500000,19000.000002953308,49.58916902315826,221.33597014638147,1.24e+04\n",
      "10000000,20000.000003157034,35.677951332524856,386.00719094860636,1.24e+04\n",
      "10500000,21000.00000336076,43.68028264558664,254.38423348410362,1.24e+04\n",
      "11000000,22000.000003564488,30.879639012829777,327.0316782197346,1.23e+04\n",
      "11500000,23000.000003768215,39.696109158403004,218.42819558833912,1.23e+04\n",
      "12000000,24000.00000397194,37.71674932086374,384.55336663648006,1.23e+04\n",
      "12500000,25000.00000417567,32.73683547159949,333.51639766438205,1.24e+04\n",
      "13000000,26000.000004379395,43.18020043448763,203.18061475174,1.24e+04\n",
      "13500000,27000.000004583122,51.3096169333999,186.90318991177938,1.24e+04\n",
      "14000000,28000.00000478685,50.06102235087084,183.1546780298497,1.24e+04\n",
      "14500000,29000.000004990576,27.255935621249993,370.1032595124919,1.24e+04\n",
      "15000000,30000.000005194303,64.10025162090392,322.60082644986903,1.24e+04\n",
      "15500000,31000.00000539803,47.20924642703472,222.12150579760223,1.24e+04\n",
      "16000000,32000.000005601756,65.8445453049559,229.6158998262759,1.24e+04\n",
      "16500000,33000.00000580548,49.916876151421775,317.36204702767884,1.24e+04\n",
      "17000000,34000.000006009206,43.29850973731067,223.99466756771878,1.24e+04\n",
      "17500000,35000.00000621293,42.67548106456455,423.01977701260216,1.24e+04\n",
      "18000000,36000.00000641666,43.22607452756131,204.77026801436972,1.24e+04\n",
      "18500000,37000.00000662039,29.003628376572582,348.56236301906057,1.24e+04\n",
      "19000000,38000.00000682411,48.81945147886799,299.7198924571987,1.24e+04\n",
      "19500000,39000.00000702784,46.78391360809271,182.60017315245634,1.24e+04\n",
      "20000000,40000.00000723157,64.49618207639904,186.51201136016581,1.24e+04\n",
      "Done!\n",
      "Time required for simulation: 277.41938304901123 seconds\n"
     ]
    }
   ],
   "source": [
    "### your code here!!!\n",
    "\n",
    "pdb = app.PDBFile('data/butane.pdb')\n",
    "forcefield = app.ForceField('data/butane.gaff2.xml')\n",
    "\n",
    "system = forcefield.createSystem(pdb.topology, nonbondedMethod=app.NoCutoff, constraints=app.HBonds)\n",
    "\n",
    "integrator = mm.LangevinIntegrator(298.15*unit.kelvin, 5.0/unit.picoseconds, 2.0*unit.femtoseconds)\n",
    "integrator.setConstraintTolerance(1e-5)\n",
    "\n",
    "platform = mm.Platform.getPlatformByName('Reference')\n",
    "simulation = app.Simulation(pdb.topology, system, integrator, platform) # ENTER THE THREE PIECES OF OUR SIMULATION HERE (hmm... I wonder where I can find this)\n",
    "simulation.context.setPositions(pdb.positions)\n",
    "\n",
    "print('Minimizing...')\n",
    "\n",
    "st = simulation.context.getState(getPositions=True,getEnergy=True)\n",
    "print(F\"Potential energy before minimization is {st.getPotentialEnergy()}\")\n",
    "\n",
    "simulation.minimizeEnergy(maxIterations=100)\n",
    "\n",
    "st = simulation.context.getState(getPositions=True,getEnergy=True)\n",
    "print(F\"Potential energy after minimization is {st.getPotentialEnergy()}\")\n",
    "\n",
    "from sys import stdout\n",
    "\n",
    "print('Equilibrating...')\n",
    "\n",
    "#print data to stdout every 250 steps, 0.5 ps\n",
    "simulation.reporters.append(app.StateDataReporter(stdout, 250, step=True, \n",
    "    potentialEnergy=True, temperature=True, separator=','))\n",
    "simulation.context.setVelocitiesToTemperature(298*unit.kelvin)\n",
    "\n",
    "#run for 5000 steps (2 fs * 5000 = 10ps)\n",
    "simulation.step(5000)\n",
    "\n",
    "print('Running Production...')\n",
    "\n",
    "# Begin timer\n",
    "tinit=time.time()\n",
    "\n",
    "# Clear simulation reporters\n",
    "simulation.reporters.clear()\n",
    "\n",
    "# Reinitialize simulation reporters. We do this because we want different information printed from the production run than the equilibration run.\n",
    "# output basic simulation information below every 500,000 steps - (which is equal to 2 fs(500,000) = 1,000,000 fs = 1 ns)\n",
    "simulation.reporters.append(app.StateDataReporter(stdout, 500000, \n",
    "    step=True, time=True, potentialEnergy=True, temperature=True, \n",
    "    speed=True, separator=','))\n",
    "\n",
    "# write out a trajectory (i.e., coordinates vs. time) to a DCD\n",
    "# file every 100 steps - 0.2 ps\n",
    "simulation.reporters.append(app.DCDReporter('butane_sim.dcd', 100))\n",
    "\n",
    "# run the simulation for 40 ns (= 2.0x10^7 steps - 20 ns )\n",
    "simulation.step(20000000)\n",
    "\n",
    "# End timer\n",
    "tfinal=time.time()\n",
    "print('Done!')\n",
    "print('Time required for simulation:', tfinal-tinit, 'seconds')\n",
    "\n",
    "\n"
   ]
  },
  {
   "cell_type": "markdown",
   "metadata": {},
   "source": [
    "---"
   ]
  },
  {
   "cell_type": "markdown",
   "metadata": {},
   "source": [
    "## Analysis\n",
    "Now that we’ve performed our computer experiment, it is time to analyze the data we have collected. The main type of data you have collected through this simulation is information on atom positions, or the system trajectory.\n",
    "\n",
    "As part of our production simulation, we set up a reporter to record atomic positions. The code below shows that code from your previous script, **you do not need to execute it.**"
   ]
  },
  {
   "cell_type": "code",
   "execution_count": null,
   "metadata": {},
   "outputs": [],
   "source": [
    "simulation.reporters.append(app.DCDReporter('ethane_sim.dcd', 100))"
   ]
  },
  {
   "cell_type": "markdown",
   "metadata": {},
   "source": [
    "This reporter saved the atomic positions for us every 100 timesteps in a file called `ethane_sim.dcd`. The DCD file format is a binary file (instead of being a text file), so you cannot open it and look at it. However, we will be using certain libraries to analyze and view the file’s contents. If you’ve run your simulation, you should have the file `ethane_sim.dcd` in the same folder as your Jupyter notebook.\n",
    "\n",
    "First, we will need to make sure we have a few more Python libraries installed which can help us with analysis. We will use a library called **nglview** to visualize the trajectory, and a library called **MDTraj** to analyze the trajectory. Before opening a new notebook for analysis, you may need to install **nglview** and **MDTraj**.\n",
    "\n",
    "Type the following in your *terminal* to install **nglview** and **MDTraj**:"
   ]
  },
  {
   "cell_type": "code",
   "execution_count": null,
   "metadata": {},
   "outputs": [],
   "source": [
    "$ conda install -c conda-forge mdtraj nglview"
   ]
  },
  {
   "cell_type": "code",
   "execution_count": null,
   "metadata": {},
   "outputs": [],
   "source": [
    "import mdtraj as md\n",
    "\n",
    "traj = md.load('ethane_sim.dcd', top='data/ethane.pdb')"
   ]
  },
  {
   "cell_type": "markdown",
   "metadata": {},
   "source": [
    "The command above reads all of the atomic positions from `ethane_sim.dcd` and keeps track of atom connectivity (topology) which was given in the PDB file. Next, visualize the trajectory using nglview. Nglview has a special function `show_mdtraj` that we can use with our trajectory because it was in a specific format from the MDTraj library."
   ]
  },
  {
   "cell_type": "code",
   "execution_count": null,
   "metadata": {},
   "outputs": [],
   "source": [
    "import nglview as ngl\n",
    "\n",
    "visualize = ngl.show_mdtraj(traj)\n",
    "visualize"
   ]
  },
  {
   "cell_type": "markdown",
   "metadata": {},
   "source": [
    "This should show you something that looks sort of like a movie of your ethane molecule. These are the atomic positions calculated by OpenMM during the molecular dynamics run. We can now analyze the positions to find out some things about our molecule.\n",
    "\n",
    "We will use another OpenMM command to pull out our bonds and atoms for analysis"
   ]
  },
  {
   "cell_type": "code",
   "execution_count": null,
   "metadata": {},
   "outputs": [],
   "source": [
    "atoms, bonds = traj.topology.to_dataframe()\n",
    "atoms"
   ]
  },
  {
   "cell_type": "markdown",
   "metadata": {},
   "source": [
    "#### QUESTION\n",
    "Describe the table that `atoms` produced.\n",
    "\n",
    "#### RESPONSE\n",
    "Your response here :D"
   ]
  },
  {
   "cell_type": "markdown",
   "metadata": {},
   "source": [
    "### Analyzing the C-C bond length\n",
    "Let’s look at what C-C bond lengths our ethane molecule had during the simulation. Before we can measure the bond lengths, we have to decide which atoms from our molecule define the bond angle. You should see a table output from running `atoms`.\n",
    "\n",
    "We have to pick the atom indices for the C-C bond. An atom’s index is the left-most value in the table above. For our torsion, we’ll measure `C1-C2` the indices for these are `0` and `4`. We use the function `compute_distances` in the MDTraj library to measure the distance between these atoms."
   ]
  },
  {
   "cell_type": "code",
   "execution_count": null,
   "metadata": {},
   "outputs": [],
   "source": [
    "bond_indices = [0, 4] # atoms to define the bond length\n",
    "bond_length = md.compute_distances(traj, [bond_indices])"
   ]
  },
  {
   "cell_type": "markdown",
   "metadata": {},
   "source": [
    "We now have the measurement for this torsion angle in radians for each recorded timestep of the trajectory saved in the array `bond_length`. One way we can examine this data is by plotting it as a histogram using the Python library `matplotlib`."
   ]
  },
  {
   "cell_type": "code",
   "execution_count": null,
   "metadata": {},
   "outputs": [],
   "source": [
    "import matplotlib.pyplot as plt\n",
    "\n",
    "bondcounts, binedges, otherstuff = plt.hist(bond_length, bins=120)\n",
    "plt.title('C-C bond length histogram')\n",
    "plt.xlabel('Bond length (nm)')\n",
    "plt.ylabel('Counts')\n",
    "plt.show()"
   ]
  },
  {
   "cell_type": "markdown",
   "metadata": {},
   "source": [
    "## Your Turn\n",
    "A torsion is made up of four atoms which are bonded to each other. Analyze the torsion angle associated with the atoms `H11-C1-C2-H21` for your trajectory. Instead of using the function `compute_distance`, use `compute_dihedrals`. Create a histogram plot of the torsion angles.\n",
    "\n",
    "First, we need to pick the atom indices of our torsion angle and use the `compute_dihedrals` function to calculate the dihedrals."
   ]
  },
  {
   "cell_type": "code",
   "execution_count": null,
   "metadata": {},
   "outputs": [],
   "source": [
    "phi_indices = [] # add atoms to define the torsion angle\n",
    "phi = # use the compute_dihedrals function\n",
    "\n",
    "print(phi)"
   ]
  },
  {
   "cell_type": "markdown",
   "metadata": {},
   "source": [
    "We now have the measurement for this torsion angle in radians for each recorded timestep of the trajectory.\n",
    "\n",
    "Next, we can examine this data by plotting it as a histogram using the Python library `matplotlib`."
   ]
  },
  {
   "cell_type": "code",
   "execution_count": null,
   "metadata": {},
   "outputs": [],
   "source": [
    "import matplotlib.pyplot as plt\n",
    "\n",
    "# create a histogram with 90 bins"
   ]
  },
  {
   "cell_type": "markdown",
   "metadata": {},
   "source": [
    "Credit for this exercise goes to [MolSSI](https://education.molssi.org/mm-tools/02-md-alkanes/index.html)."
   ]
  }
 ],
 "metadata": {
  "kernelspec": {
   "display_name": "Python 3 (ipykernel)",
   "language": "python",
   "name": "python3"
  },
  "language_info": {
   "codemirror_mode": {
    "name": "ipython",
    "version": 3
   },
   "file_extension": ".py",
   "mimetype": "text/x-python",
   "name": "python",
   "nbconvert_exporter": "python",
   "pygments_lexer": "ipython3",
   "version": "3.9.13"
  },
  "vscode": {
   "interpreter": {
    "hash": "31f2aee4e71d21fbe5cf8b01ff0e069b9275f58929596ceb00d14d90e3e16cd6"
   }
  }
 },
 "nbformat": 4,
 "nbformat_minor": 2
}
